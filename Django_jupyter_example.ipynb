{
 "cells": [
  {
   "cell_type": "markdown",
   "metadata": {},
   "source": [
    "# Jupyter notebook with django\n",
    "\n",
    "1. pip install django-extensions\n",
    "2. add django-extensions to INSTALLED_APPS in settings.py\n",
    "\n",
    "\n",
    "INSTALLED_APPS = (\n",
    "    ...\n",
    "    'django_extensions',\n",
    ")\n",
    "\n",
    "3. pip install jupyter\n",
    "4. python manage.py shell_plus --notebook"
   ]
  },
  {
   "cell_type": "code",
   "execution_count": 1,
   "metadata": {},
   "outputs": [],
   "source": [
    "import os\n",
    "import django\n",
    "os.environ.setdefault('DJANGO_SETTINGS_MODULE', 'fms_core.settings')\n",
    "os.environ[\"DJANGO_ALLOW_ASYNC_UNSAFE\"] = \"true\"\n",
    "django.setup()"
   ]
  },
  {
   "cell_type": "code",
   "execution_count": 2,
   "metadata": {},
   "outputs": [],
   "source": [
    "from fms_core.models.container import Container\n",
    "from fms_core.models.sample import Sample\n",
    "from fms_core.models.individual import Individual"
   ]
  },
  {
   "cell_type": "code",
   "execution_count": 3,
   "metadata": {},
   "outputs": [],
   "source": [
    "individual = Individual.objects.get(id=28)"
   ]
  },
  {
   "cell_type": "code",
   "execution_count": 4,
   "metadata": {},
   "outputs": [
    {
     "name": "stdout",
     "output_type": "stream",
     "text": [
      "{'_state': <django.db.models.base.ModelState object at 0x000001879804F0C8>, 'id': 28, 'label': 'SampleTest_005', 'taxon': 'Homo sapiens', 'sex': 'Unknown', 'pedigree': 'SampleTestPed_002', 'mother_id': None, 'father_id': None, 'cohort': 'New'}\n"
     ]
    }
   ],
   "source": [
    "print(individual.__dict__)"
   ]
  },
  {
   "cell_type": "code",
   "execution_count": 6,
   "metadata": {},
   "outputs": [
    {
     "name": "stdout",
     "output_type": "stream",
     "text": [
      "{'_state': <django.db.models.base.ModelState object at 0x000001879804F0C8>, 'id': 28, 'label': 'SampleTest_005', 'taxon': 'Homo sapiens', 'sex': 'M', 'pedigree': 'SampleTestPed_002', 'mother_id': None, 'father_id': None, 'cohort': 'New'}\n"
     ]
    }
   ],
   "source": [
    "# change object directly and save\n",
    "\n",
    "individual.sex = 'M'\n",
    "individual.save()\n",
    "print(individual.__dict__)\n"
   ]
  },
  {
   "cell_type": "code",
   "execution_count": 8,
   "metadata": {},
   "outputs": [
    {
     "data": {
      "text/plain": [
       "24"
      ]
     },
     "execution_count": 8,
     "metadata": {},
     "output_type": "execute_result"
    }
   ],
   "source": [
    "Individual.objects.all().count()"
   ]
  },
  {
   "cell_type": "code",
   "execution_count": 23,
   "metadata": {},
   "outputs": [
    {
     "data": {
      "text/plain": [
       "11"
      ]
     },
     "execution_count": 23,
     "metadata": {},
     "output_type": "execute_result"
    }
   ],
   "source": [
    "# count how many individuals of Cohort001\n",
    "\n",
    "Individual.objects.filter(cohort='Cohort001').count()"
   ]
  },
  {
   "cell_type": "code",
   "execution_count": 24,
   "metadata": {},
   "outputs": [
    {
     "data": {
      "text/plain": [
       "11"
      ]
     },
     "execution_count": 24,
     "metadata": {},
     "output_type": "execute_result"
    }
   ],
   "source": [
    "# filter objects and update in bulk\n",
    "\n",
    "Individual.objects.filter(cohort='Cohort001').update(cohort='New_cohort')\n"
   ]
  },
  {
   "cell_type": "code",
   "execution_count": 25,
   "metadata": {},
   "outputs": [
    {
     "data": {
      "text/plain": [
       "11"
      ]
     },
     "execution_count": 25,
     "metadata": {},
     "output_type": "execute_result"
    }
   ],
   "source": [
    "# count how many individuals of New_cohort\n",
    "\n",
    "Individual.objects.filter(cohort='New_cohort').count()"
   ]
  },
  {
   "cell_type": "code",
   "execution_count": 27,
   "metadata": {},
   "outputs": [
    {
     "data": {
      "text/plain": [
       "0"
      ]
     },
     "execution_count": 27,
     "metadata": {},
     "output_type": "execute_result"
    }
   ],
   "source": [
    "# count how many individuals of Cohort001 after change to New_cohort\n",
    "\n",
    "Individual.objects.filter(cohort='Cohort001').count()"
   ]
  },
  {
   "cell_type": "code",
   "execution_count": 35,
   "metadata": {},
   "outputs": [
    {
     "data": {
      "text/plain": [
       "{'_state': <django.db.models.base.ModelState at 0x18799429148>,\n",
       " 'id': 28,\n",
       " 'label': 'SampleTest_005',\n",
       " 'taxon': 'Homo sapiens',\n",
       " 'sex': 'M',\n",
       " 'pedigree': 'SampleTestPed_002',\n",
       " 'mother_id': None,\n",
       " 'father_id': None,\n",
       " 'cohort': 'New'}"
      ]
     },
     "execution_count": 35,
     "metadata": {},
     "output_type": "execute_result"
    }
   ],
   "source": [
    "Individual.objects.get(id=28).__dict__"
   ]
  },
  {
   "cell_type": "code",
   "execution_count": 36,
   "metadata": {},
   "outputs": [
    {
     "data": {
      "text/plain": [
       "1"
      ]
     },
     "execution_count": 36,
     "metadata": {},
     "output_type": "execute_result"
    }
   ],
   "source": [
    "Individual.objects.filter(id=28).update(sex='F')"
   ]
  },
  {
   "cell_type": "code",
   "execution_count": 37,
   "metadata": {},
   "outputs": [
    {
     "data": {
      "text/plain": [
       "{'_state': <django.db.models.base.ModelState at 0x18799747a88>,\n",
       " 'id': 28,\n",
       " 'label': 'SampleTest_005',\n",
       " 'taxon': 'Homo sapiens',\n",
       " 'sex': 'F',\n",
       " 'pedigree': 'SampleTestPed_002',\n",
       " 'mother_id': None,\n",
       " 'father_id': None,\n",
       " 'cohort': 'New'}"
      ]
     },
     "execution_count": 37,
     "metadata": {},
     "output_type": "execute_result"
    }
   ],
   "source": [
    "Individual.objects.get(id=28).__dict__"
   ]
  },
  {
   "cell_type": "code",
   "execution_count": 38,
   "metadata": {},
   "outputs": [],
   "source": [
    "import reversion\n",
    "from django.contrib.auth.models import User"
   ]
  },
  {
   "cell_type": "code",
   "execution_count": 39,
   "metadata": {},
   "outputs": [],
   "source": [
    "# create revision and set comment\n",
    "\n",
    "with reversion.create_revision():\n",
    "    individual = Individual.objects.get(id=28)\n",
    "    individual.sex = 'M'\n",
    "    # find out how to retrieve a current user in notebook, for now  - user is set to admin\n",
    "    reversion.set_user(User.objects.get(username='admin'))\n",
    "    reversion.set_comment('Changed Sex.')\n",
    "    individual.save()"
   ]
  }
 ],
 "metadata": {
  "kernelspec": {
   "display_name": "Django Shell-Plus",
   "language": "python",
   "name": "django_extensions"
  },
  "language_info": {
   "codemirror_mode": {
    "name": "ipython",
    "version": 3
   },
   "file_extension": ".py",
   "mimetype": "text/x-python",
   "name": "python",
   "nbconvert_exporter": "python",
   "pygments_lexer": "ipython3",
   "version": "3.7.9"
  }
 },
 "nbformat": 4,
 "nbformat_minor": 4
}
